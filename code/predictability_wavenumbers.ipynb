{
 "cells": [
  {
   "cell_type": "code",
   "execution_count": 2,
   "id": "753b5b0c-6106-48f1-9868-9adff5656818",
   "metadata": {
    "execution": {
     "iopub.execute_input": "2022-03-02T15:56:37.972491Z",
     "iopub.status.busy": "2022-03-02T15:56:37.971886Z",
     "iopub.status.idle": "2022-03-02T15:56:38.532525Z",
     "shell.execute_reply": "2022-03-02T15:56:38.531353Z",
     "shell.execute_reply.started": "2022-03-02T15:56:37.972438Z"
    },
    "tags": []
   },
   "outputs": [],
   "source": [
    "import numpy as np\n",
    "import matplotlib.pyplot as plt\n"
   ]
  },
  {
   "cell_type": "markdown",
   "id": "9b0f19cd-0679-4e1c-996d-c93ee576eb83",
   "metadata": {
    "execution": {
     "iopub.execute_input": "2022-03-02T15:33:17.581649Z",
     "iopub.status.busy": "2022-03-02T15:33:17.580732Z",
     "iopub.status.idle": "2022-03-02T15:33:17.599514Z",
     "shell.execute_reply": "2022-03-02T15:33:17.598082Z",
     "shell.execute_reply.started": "2022-03-02T15:33:17.581348Z"
    },
    "tags": []
   },
   "source": [
    "From G.J. Boer (2003) Predictability as a function of scale, Atmosphere-Ocean, 41:3, 203-215, DOI: [10.3137/ao.410302](https://doi.org/10.3137/ao.410302)"
   ]
  },
  {
   "cell_type": "code",
   "execution_count": 3,
   "id": "5082fab7-cb07-4756-8fac-e96ec5c65d2d",
   "metadata": {
    "execution": {
     "iopub.execute_input": "2022-03-02T15:56:38.780984Z",
     "iopub.status.busy": "2022-03-02T15:56:38.780440Z",
     "iopub.status.idle": "2022-03-02T15:56:38.786266Z",
     "shell.execute_reply": "2022-03-02T15:56:38.785286Z",
     "shell.execute_reply.started": "2022-03-02T15:56:38.780935Z"
    },
    "tags": []
   },
   "outputs": [],
   "source": [
    "coef = -3/2\n",
    "n = np.arange(1,100)\n",
    "tau = (n/80)**coef"
   ]
  },
  {
   "cell_type": "code",
   "execution_count": 9,
   "id": "1f420e21-d666-4031-b705-e5e4146ea08d",
   "metadata": {
    "execution": {
     "iopub.execute_input": "2022-03-02T16:24:55.979442Z",
     "iopub.status.busy": "2022-03-02T16:24:55.978929Z",
     "iopub.status.idle": "2022-03-02T16:24:55.986483Z",
     "shell.execute_reply": "2022-03-02T16:24:55.985517Z",
     "shell.execute_reply.started": "2022-03-02T16:24:55.979400Z"
    },
    "tags": []
   },
   "outputs": [
    {
     "data": {
      "text/plain": [
       "19.613086908021586"
      ]
     },
     "execution_count": 9,
     "metadata": {},
     "output_type": "execute_result"
    }
   ],
   "source": [
    "tau[10]"
   ]
  },
  {
   "cell_type": "code",
   "execution_count": 4,
   "id": "a149e025-590b-4a4c-a2d0-635d7427e288",
   "metadata": {
    "execution": {
     "iopub.execute_input": "2022-03-02T15:56:51.491540Z",
     "iopub.status.busy": "2022-03-02T15:56:51.490211Z",
     "iopub.status.idle": "2022-03-02T15:56:51.510058Z",
     "shell.execute_reply": "2022-03-02T15:56:51.508553Z",
     "shell.execute_reply.started": "2022-03-02T15:56:51.491471Z"
    },
    "tags": []
   },
   "outputs": [
    {
     "data": {
      "text/plain": [
       "7.435429127226919"
      ]
     },
     "execution_count": 4,
     "metadata": {},
     "output_type": "execute_result"
    }
   ],
   "source": [
    "tau[20]"
   ]
  },
  {
   "cell_type": "code",
   "execution_count": 8,
   "id": "74831565-7eb6-44ba-a04f-79348ab72bb2",
   "metadata": {
    "execution": {
     "iopub.execute_input": "2022-03-02T16:13:33.849450Z",
     "iopub.status.busy": "2022-03-02T16:13:33.848603Z",
     "iopub.status.idle": "2022-03-02T16:13:34.059658Z",
     "shell.execute_reply": "2022-03-02T16:13:34.058455Z",
     "shell.execute_reply.started": "2022-03-02T16:13:33.849393Z"
    },
    "tags": []
   },
   "outputs": [
    {
     "data": {
      "text/plain": [
       "<matplotlib.lines.Line2D at 0x7fc063a75eb0>"
      ]
     },
     "execution_count": 8,
     "metadata": {},
     "output_type": "execute_result"
    },
    {
     "data": {
      "image/png": "[encoded data removed]",
      "text/plain": [
       "<Figure size 432x288 with 1 Axes>"
      ]
     },
     "metadata": {
      "needs_background": "light"
     },
     "output_type": "display_data"
    }
   ],
   "source": [
    "plt.plot(n, tau)\n",
    "plt.ylim(0,20)\n",
    "plt.ylabel('predictability [days]')\n",
    "plt.xlabel('wavenumbers')\n",
    "plt.xlim(10,)\n",
    "plt.axhline(1, color = 'gray', ls = 'dashed')\n",
    "plt.axvline(21, color = 'gray', ls = 'dashed')"
   ]
  }
 ],
 "metadata": {
  "kernelspec": {
   "display_name": "Python 3 (ipykernel)",
   "language": "python",
   "name": "python3"
  },
  "language_info": {
   "codemirror_mode": {
    "name": "ipython",
    "version": 3
   },
   "file_extension": ".py",
   "mimetype": "text/x-python",
   "name": "python",
   "nbconvert_exporter": "python",
   "pygments_lexer": "ipython3",
   "version": "3.9.1"
  }
 },
 "nbformat": 4,
 "nbformat_minor": 5
}
